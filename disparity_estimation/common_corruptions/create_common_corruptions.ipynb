{
 "cells": [
  {
   "cell_type": "code",
   "execution_count": 13,
   "metadata": {},
   "outputs": [],
   "source": [
    "import os \n",
    "from imagecorruptions import get_corruption_names, corrupt\n",
    "from PIL import Image\n",
    "import numpy as np"
   ]
  },
  {
   "cell_type": "code",
   "execution_count": 5,
   "metadata": {},
   "outputs": [],
   "source": [
    "from dataloader import get_dataset"
   ]
  },
  {
   "cell_type": "code",
   "execution_count": 8,
   "metadata": {},
   "outputs": [
    {
     "name": "stdout",
     "output_type": "stream",
     "text": [
      "Loading sceneflow dataset\n"
     ]
    }
   ],
   "source": [
    "dataloader = get_dataset('sceneflow','/pfs/work7/workspace/scratch/ma_faroesch-team_project_fss2024/dataset/FlyingThings3D','test','')"
   ]
  },
  {
   "cell_type": "code",
   "execution_count": 18,
   "metadata": {},
   "outputs": [
    {
     "ename": "TypeError",
     "evalue": "gaussian() got an unexpected keyword argument 'multichannel'",
     "output_type": "error",
     "traceback": [
      "\u001b[0;31m---------------------------------------------------------------------------\u001b[0m",
      "\u001b[0;31mTypeError\u001b[0m                                 Traceback (most recent call last)",
      "Cell \u001b[0;32mIn[18], line 12\u001b[0m\n\u001b[1;32m      9\u001b[0m image_left \u001b[39m=\u001b[39m np\u001b[39m.\u001b[39marray(image_left)\n\u001b[1;32m     10\u001b[0m image_right \u001b[39m=\u001b[39m np\u001b[39m.\u001b[39marray(image_right)\n\u001b[0;32m---> 12\u001b[0m corrupted_left \u001b[39m=\u001b[39m corrupt(image_left, corruption_name\u001b[39m=\u001b[39mcorruption, severity\u001b[39m=\u001b[39mseverity\u001b[39m+\u001b[39m\u001b[39m1\u001b[39m)\n\u001b[1;32m     13\u001b[0m corrupted_right \u001b[39m=\u001b[39m corrupt(image_right, corruption_name\u001b[39m=\u001b[39mcorruption, severity\u001b[39m=\u001b[39mseverity\u001b[39m+\u001b[39m\u001b[39m1\u001b[39m)\n\u001b[1;32m     15\u001b[0m image_left_path_corrupted \u001b[39m=\u001b[39m image_left_path\u001b[39m.\u001b[39mreplace(\u001b[39m'\u001b[39m\u001b[39mFlyingThings3D\u001b[39m\u001b[39m'\u001b[39m,\u001b[39mf\u001b[39m\u001b[39m'\u001b[39m\u001b[39mFlyingThings3D/Common_corruptions/\u001b[39m\u001b[39m{\u001b[39;00mcorruption\u001b[39m}\u001b[39;00m\u001b[39m/severity_\u001b[39m\u001b[39m{\u001b[39;00mseverity\u001b[39m}\u001b[39;00m\u001b[39m'\u001b[39m)\n",
      "File \u001b[0;32m/pfs/work7/workspace/scratch/ma_adackerm-team_project_fss2024/miniconda3/envs/unified_env/lib/python3.12/site-packages/imagecorruptions/__init__.py:61\u001b[0m, in \u001b[0;36mcorrupt\u001b[0;34m(image, severity, corruption_name, corruption_number)\u001b[0m\n\u001b[1;32m     58\u001b[0m     \u001b[39mraise\u001b[39;00m \u001b[39mAttributeError\u001b[39;00m(\u001b[39m'\u001b[39m\u001b[39mSeverity must be an integer in [1, 5]\u001b[39m\u001b[39m'\u001b[39m)\n\u001b[1;32m     60\u001b[0m \u001b[39mif\u001b[39;00m \u001b[39mnot\u001b[39;00m (corruption_name \u001b[39mis\u001b[39;00m \u001b[39mNone\u001b[39;00m):\n\u001b[0;32m---> 61\u001b[0m     image_corrupted \u001b[39m=\u001b[39m corruption_dict[corruption_name](Image\u001b[39m.\u001b[39mfromarray(image),\n\u001b[1;32m     62\u001b[0m                                                    severity)\n\u001b[1;32m     63\u001b[0m \u001b[39melif\u001b[39;00m corruption_number \u001b[39m!=\u001b[39m \u001b[39m-\u001b[39m\u001b[39m1\u001b[39m:\n\u001b[1;32m     64\u001b[0m     image_corrupted \u001b[39m=\u001b[39m corruption_tuple[corruption_number](Image\u001b[39m.\u001b[39mfromarray(image),\n\u001b[1;32m     65\u001b[0m                                                       severity)\n",
      "File \u001b[0;32m/pfs/work7/workspace/scratch/ma_adackerm-team_project_fss2024/miniconda3/envs/unified_env/lib/python3.12/site-packages/imagecorruptions/corruptions.py:198\u001b[0m, in \u001b[0;36mglass_blur\u001b[0;34m(x, severity)\u001b[0m\n\u001b[1;32m    192\u001b[0m \u001b[39mdef\u001b[39;00m \u001b[39mglass_blur\u001b[39m(x, severity\u001b[39m=\u001b[39m\u001b[39m1\u001b[39m):\n\u001b[1;32m    193\u001b[0m     \u001b[39m# sigma, max_delta, iterations\u001b[39;00m\n\u001b[1;32m    194\u001b[0m     c \u001b[39m=\u001b[39m [(\u001b[39m0.7\u001b[39m, \u001b[39m1\u001b[39m, \u001b[39m2\u001b[39m), (\u001b[39m0.9\u001b[39m, \u001b[39m2\u001b[39m, \u001b[39m1\u001b[39m), (\u001b[39m1\u001b[39m, \u001b[39m2\u001b[39m, \u001b[39m3\u001b[39m), (\u001b[39m1.1\u001b[39m, \u001b[39m3\u001b[39m, \u001b[39m2\u001b[39m), (\u001b[39m1.5\u001b[39m, \u001b[39m4\u001b[39m, \u001b[39m2\u001b[39m)][\n\u001b[1;32m    195\u001b[0m         severity \u001b[39m-\u001b[39m \u001b[39m1\u001b[39m]\n\u001b[1;32m    197\u001b[0m     x \u001b[39m=\u001b[39m np\u001b[39m.\u001b[39muint8(\n\u001b[0;32m--> 198\u001b[0m         gaussian(np\u001b[39m.\u001b[39marray(x) \u001b[39m/\u001b[39m \u001b[39m255.\u001b[39m, sigma\u001b[39m=\u001b[39mc[\u001b[39m0\u001b[39m], multichannel\u001b[39m=\u001b[39m\u001b[39mTrue\u001b[39;00m) \u001b[39m*\u001b[39m \u001b[39m255\u001b[39m)\n\u001b[1;32m    199\u001b[0m     x_shape \u001b[39m=\u001b[39m np\u001b[39m.\u001b[39marray(x)\u001b[39m.\u001b[39mshape\n\u001b[1;32m    201\u001b[0m     \u001b[39m# locally shuffle pixels\u001b[39;00m\n",
      "File \u001b[0;32m/pfs/work7/workspace/scratch/ma_adackerm-team_project_fss2024/miniconda3/envs/unified_env/lib/python3.12/site-packages/skimage/_shared/utils.py:321\u001b[0m, in \u001b[0;36mdeprecate_parameter.__call__.<locals>.fixed_func\u001b[0;34m(*args, **kwargs)\u001b[0m\n\u001b[1;32m    317\u001b[0m     \u001b[39melif\u001b[39;00m \u001b[39mself\u001b[39m\u001b[39m.\u001b[39mnew_name \u001b[39mis\u001b[39;00m \u001b[39mnot\u001b[39;00m \u001b[39mNone\u001b[39;00m:\n\u001b[1;32m    318\u001b[0m         \u001b[39m# Assign old value to new one\u001b[39;00m\n\u001b[1;32m    319\u001b[0m         kwargs[\u001b[39mself\u001b[39m\u001b[39m.\u001b[39mnew_name] \u001b[39m=\u001b[39m deprecated_value\n\u001b[0;32m--> 321\u001b[0m \u001b[39mreturn\u001b[39;00m func(\u001b[39m*\u001b[39margs, \u001b[39m*\u001b[39m\u001b[39m*\u001b[39mkwargs)\n",
      "\u001b[0;31mTypeError\u001b[0m: gaussian() got an unexpected keyword argument 'multichannel'"
     ]
    }
   ],
   "source": [
    "for i in range(len(dataloader)):\n",
    "    image_left_path = dataloader.img_left_filenames[i]\n",
    "    image_right_path = dataloader.img_right_filenames[i]\n",
    "    image_left = dataloader.load_image(image_left_path)\n",
    "    image_right = dataloader.load_image(image_right_path)\n",
    "\n",
    "    for corruption in get_corruption_names():\n",
    "        for severity in range(5):\n",
    "            image_left = np.array(image_left)\n",
    "            image_right = np.array(image_right)\n",
    "\n",
    "            corrupted_left = corrupt(image_left, corruption_name=corruption, severity=severity+1)\n",
    "            corrupted_right = corrupt(image_right, corruption_name=corruption, severity=severity+1)\n",
    "\n",
    "            image_left_path_corrupted = image_left_path.replace('FlyingThings3D',f'FlyingThings3D/Common_corruptions/{corruption}/severity_{severity}')\n",
    "            image_right_path_corrupted = image_right_path.replace('FlyingThings3D',f'FlyingThings3D/Common_corruptions/{corruption}/severity_{severity}')\n",
    "            os.makedirs(os.path.dirname(image_left_path_corrupted), exist_ok=True)\n",
    "            os.makedirs(os.path.dirname(image_right_path_corrupted), exist_ok=True)\n",
    "\n",
    "            Image.fromarray(corrupted_left).save(image_left_path_corrupted)\n",
    "            Image.fromarray(corrupted_right).save(image_right_path_corrupted)\n",
    "\n",
    "    print(f'{i} {len(dataloader)} images corrupted')"
   ]
  },
  {
   "cell_type": "code",
   "execution_count": 19,
   "metadata": {},
   "outputs": [
    {
     "data": {
      "text/plain": [
       "'0.23.2'"
      ]
     },
     "execution_count": 19,
     "metadata": {},
     "output_type": "execute_result"
    }
   ],
   "source": [
    "# Checking for the latest version of skimage that is compatible with the 'multichannel' parameter\n",
    "import skimage\n",
    "skimage.__version__"
   ]
  },
  {
   "cell_type": "code",
   "execution_count": 20,
   "metadata": {},
   "outputs": [
    {
     "name": "stdout",
     "output_type": "stream",
     "text": [
      "Found existing installation: scikit-image 0.23.2\n",
      "Uninstalling scikit-image-0.23.2:\n",
      "  Would remove:\n",
      "    /pfs/work7/workspace/scratch/ma_adackerm-team_project_fss2024/miniconda3/envs/unified_env/lib/python3.12/site-packages/scikit_image-0.23.2.dist-info/*\n",
      "    /pfs/work7/workspace/scratch/ma_adackerm-team_project_fss2024/miniconda3/envs/unified_env/lib/python3.12/site-packages/skimage/*\n",
      "Proceed (Y/n)? ^C\n",
      "\u001b[31mERROR: Operation cancelled by user\u001b[0m\u001b[31m\n",
      "\u001b[0m"
     ]
    }
   ],
   "source": [
    "!pip uninstall scikit-image\n"
   ]
  },
  {
   "cell_type": "code",
   "execution_count": null,
   "metadata": {},
   "outputs": [],
   "source": [
    "!pip install scikit-image==0.17.2\n"
   ]
  }
 ],
 "metadata": {
  "kernelspec": {
   "display_name": "unified_env",
   "language": "python",
   "name": "python3"
  },
  "language_info": {
   "codemirror_mode": {
    "name": "ipython",
    "version": 3
   },
   "file_extension": ".py",
   "mimetype": "text/x-python",
   "name": "python",
   "nbconvert_exporter": "python",
   "pygments_lexer": "ipython3",
   "version": "3.12.0"
  },
  "orig_nbformat": 4
 },
 "nbformat": 4,
 "nbformat_minor": 2
}
