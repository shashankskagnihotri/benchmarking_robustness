{
 "cells": [
  {
   "cell_type": "code",
   "execution_count": 1,
   "metadata": {},
   "outputs": [],
   "source": [
    "import os"
   ]
  },
  {
   "cell_type": "code",
   "execution_count": 2,
   "metadata": {},
   "outputs": [],
   "source": [
    "def count_files_in_directory(directory):\n",
    "    count = 0\n",
    "    for root, dirs, files in os.walk(directory):\n",
    "        count += len(files)\n",
    "    return count"
   ]
  },
  {
   "cell_type": "code",
   "execution_count": 3,
   "metadata": {},
   "outputs": [],
   "source": [
    "def check_file_counts(base_directory):\n",
    "    discrepancies = []\n",
    "    for root, dirs, files in os.walk(base_directory):\n",
    "        if root == base_directory:\n",
    "            continue\n",
    "        current_dir_count = count_files_in_directory(root)\n",
    "        for dir in dirs:\n",
    "            sub_dir_path = os.path.join(root, dir)\n",
    "            sub_dir_count = count_files_in_directory(sub_dir_path)\n",
    "            if current_dir_count != sub_dir_count:\n",
    "                discrepancies.append((root, sub_dir_path, current_dir_count, sub_dir_count))\n",
    "    return discrepancies"
   ]
  },
  {
   "cell_type": "code",
   "execution_count": 4,
   "metadata": {},
   "outputs": [],
   "source": [
    "def main():\n",
    "    base_directory = '/pfs/work7/workspace/scratch/ma_faroesch-team_project_fss2024/dataset/KITTI_2015/Common_corruptions'\n",
    "    if not os.path.exists(base_directory):\n",
    "        print(f\"Der Ordner '{base_directory}' existiert nicht.\")\n",
    "        return\n",
    "\n",
    "    discrepancies = check_file_counts(base_directory)\n",
    "    \n",
    "    if not discrepancies:\n",
    "        print(\"Alle Unterordner und deren Unterunterordner haben die gleiche Anzahl an Dateien.\")\n",
    "    else:\n",
    "        print(\"Folgende Unterordner haben eine unterschiedliche Anzahl an Dateien:\")\n",
    "        for root, sub_dir, root_count, sub_dir_count in discrepancies:\n",
    "            print(f\"Ordner: {root} hat {root_count} Dateien, aber Unterordner: {sub_dir} hat {sub_dir_count} Dateien.\")"
   ]
  },
  {
   "cell_type": "code",
   "execution_count": 5,
   "metadata": {},
   "outputs": [
    {
     "name": "stdout",
     "output_type": "stream",
     "text": [
      "Folgende Unterordner haben eine unterschiedliche Anzahl an Dateien:\n",
      "Ordner: /pfs/work7/workspace/scratch/ma_faroesch-team_project_fss2024/dataset/KITTI_2015/Common_corruptions/glass_blur hat 320 Dateien, aber Unterordner: /pfs/work7/workspace/scratch/ma_faroesch-team_project_fss2024/dataset/KITTI_2015/Common_corruptions/glass_blur/severity_1 hat 160 Dateien.\n",
      "Ordner: /pfs/work7/workspace/scratch/ma_faroesch-team_project_fss2024/dataset/KITTI_2015/Common_corruptions/glass_blur hat 320 Dateien, aber Unterordner: /pfs/work7/workspace/scratch/ma_faroesch-team_project_fss2024/dataset/KITTI_2015/Common_corruptions/glass_blur/severity_0 hat 160 Dateien.\n",
      "Ordner: /pfs/work7/workspace/scratch/ma_faroesch-team_project_fss2024/dataset/KITTI_2015/Common_corruptions/glass_blur/severity_1/testing hat 160 Dateien, aber Unterordner: /pfs/work7/workspace/scratch/ma_faroesch-team_project_fss2024/dataset/KITTI_2015/Common_corruptions/glass_blur/severity_1/testing/image_2 hat 80 Dateien.\n",
      "Ordner: /pfs/work7/workspace/scratch/ma_faroesch-team_project_fss2024/dataset/KITTI_2015/Common_corruptions/glass_blur/severity_1/testing hat 160 Dateien, aber Unterordner: /pfs/work7/workspace/scratch/ma_faroesch-team_project_fss2024/dataset/KITTI_2015/Common_corruptions/glass_blur/severity_1/testing/image_3 hat 80 Dateien.\n",
      "Ordner: /pfs/work7/workspace/scratch/ma_faroesch-team_project_fss2024/dataset/KITTI_2015/Common_corruptions/glass_blur/severity_0/testing hat 160 Dateien, aber Unterordner: /pfs/work7/workspace/scratch/ma_faroesch-team_project_fss2024/dataset/KITTI_2015/Common_corruptions/glass_blur/severity_0/testing/image_2 hat 80 Dateien.\n",
      "Ordner: /pfs/work7/workspace/scratch/ma_faroesch-team_project_fss2024/dataset/KITTI_2015/Common_corruptions/glass_blur/severity_0/testing hat 160 Dateien, aber Unterordner: /pfs/work7/workspace/scratch/ma_faroesch-team_project_fss2024/dataset/KITTI_2015/Common_corruptions/glass_blur/severity_0/testing/image_3 hat 80 Dateien.\n",
      "Ordner: /pfs/work7/workspace/scratch/ma_faroesch-team_project_fss2024/dataset/KITTI_2015/Common_corruptions/defocus_blur hat 2000 Dateien, aber Unterordner: /pfs/work7/workspace/scratch/ma_faroesch-team_project_fss2024/dataset/KITTI_2015/Common_corruptions/defocus_blur/severity_3 hat 400 Dateien.\n",
      "Ordner: /pfs/work7/workspace/scratch/ma_faroesch-team_project_fss2024/dataset/KITTI_2015/Common_corruptions/defocus_blur hat 2000 Dateien, aber Unterordner: /pfs/work7/workspace/scratch/ma_faroesch-team_project_fss2024/dataset/KITTI_2015/Common_corruptions/defocus_blur/severity_2 hat 400 Dateien.\n",
      "Ordner: /pfs/work7/workspace/scratch/ma_faroesch-team_project_fss2024/dataset/KITTI_2015/Common_corruptions/defocus_blur hat 2000 Dateien, aber Unterordner: /pfs/work7/workspace/scratch/ma_faroesch-team_project_fss2024/dataset/KITTI_2015/Common_corruptions/defocus_blur/severity_1 hat 400 Dateien.\n",
      "Ordner: /pfs/work7/workspace/scratch/ma_faroesch-team_project_fss2024/dataset/KITTI_2015/Common_corruptions/defocus_blur hat 2000 Dateien, aber Unterordner: /pfs/work7/workspace/scratch/ma_faroesch-team_project_fss2024/dataset/KITTI_2015/Common_corruptions/defocus_blur/severity_4 hat 400 Dateien.\n",
      "Ordner: /pfs/work7/workspace/scratch/ma_faroesch-team_project_fss2024/dataset/KITTI_2015/Common_corruptions/defocus_blur hat 2000 Dateien, aber Unterordner: /pfs/work7/workspace/scratch/ma_faroesch-team_project_fss2024/dataset/KITTI_2015/Common_corruptions/defocus_blur/severity_0 hat 400 Dateien.\n",
      "Ordner: /pfs/work7/workspace/scratch/ma_faroesch-team_project_fss2024/dataset/KITTI_2015/Common_corruptions/defocus_blur/severity_3/testing hat 400 Dateien, aber Unterordner: /pfs/work7/workspace/scratch/ma_faroesch-team_project_fss2024/dataset/KITTI_2015/Common_corruptions/defocus_blur/severity_3/testing/image_2 hat 200 Dateien.\n",
      "Ordner: /pfs/work7/workspace/scratch/ma_faroesch-team_project_fss2024/dataset/KITTI_2015/Common_corruptions/defocus_blur/severity_3/testing hat 400 Dateien, aber Unterordner: /pfs/work7/workspace/scratch/ma_faroesch-team_project_fss2024/dataset/KITTI_2015/Common_corruptions/defocus_blur/severity_3/testing/image_3 hat 200 Dateien.\n",
      "Ordner: /pfs/work7/workspace/scratch/ma_faroesch-team_project_fss2024/dataset/KITTI_2015/Common_corruptions/defocus_blur/severity_2/testing hat 400 Dateien, aber Unterordner: /pfs/work7/workspace/scratch/ma_faroesch-team_project_fss2024/dataset/KITTI_2015/Common_corruptions/defocus_blur/severity_2/testing/image_2 hat 200 Dateien.\n",
      "Ordner: /pfs/work7/workspace/scratch/ma_faroesch-team_project_fss2024/dataset/KITTI_2015/Common_corruptions/defocus_blur/severity_2/testing hat 400 Dateien, aber Unterordner: /pfs/work7/workspace/scratch/ma_faroesch-team_project_fss2024/dataset/KITTI_2015/Common_corruptions/defocus_blur/severity_2/testing/image_3 hat 200 Dateien.\n",
      "Ordner: /pfs/work7/workspace/scratch/ma_faroesch-team_project_fss2024/dataset/KITTI_2015/Common_corruptions/defocus_blur/severity_1/testing hat 400 Dateien, aber Unterordner: /pfs/work7/workspace/scratch/ma_faroesch-team_project_fss2024/dataset/KITTI_2015/Common_corruptions/defocus_blur/severity_1/testing/image_2 hat 200 Dateien.\n",
      "Ordner: /pfs/work7/workspace/scratch/ma_faroesch-team_project_fss2024/dataset/KITTI_2015/Common_corruptions/defocus_blur/severity_1/testing hat 400 Dateien, aber Unterordner: /pfs/work7/workspace/scratch/ma_faroesch-team_project_fss2024/dataset/KITTI_2015/Common_corruptions/defocus_blur/severity_1/testing/image_3 hat 200 Dateien.\n",
      "Ordner: /pfs/work7/workspace/scratch/ma_faroesch-team_project_fss2024/dataset/KITTI_2015/Common_corruptions/defocus_blur/severity_4/testing hat 400 Dateien, aber Unterordner: /pfs/work7/workspace/scratch/ma_faroesch-team_project_fss2024/dataset/KITTI_2015/Common_corruptions/defocus_blur/severity_4/testing/image_2 hat 200 Dateien.\n",
      "Ordner: /pfs/work7/workspace/scratch/ma_faroesch-team_project_fss2024/dataset/KITTI_2015/Common_corruptions/defocus_blur/severity_4/testing hat 400 Dateien, aber Unterordner: /pfs/work7/workspace/scratch/ma_faroesch-team_project_fss2024/dataset/KITTI_2015/Common_corruptions/defocus_blur/severity_4/testing/image_3 hat 200 Dateien.\n",
      "Ordner: /pfs/work7/workspace/scratch/ma_faroesch-team_project_fss2024/dataset/KITTI_2015/Common_corruptions/defocus_blur/severity_0/testing hat 400 Dateien, aber Unterordner: /pfs/work7/workspace/scratch/ma_faroesch-team_project_fss2024/dataset/KITTI_2015/Common_corruptions/defocus_blur/severity_0/testing/image_2 hat 200 Dateien.\n",
      "Ordner: /pfs/work7/workspace/scratch/ma_faroesch-team_project_fss2024/dataset/KITTI_2015/Common_corruptions/defocus_blur/severity_0/testing hat 400 Dateien, aber Unterordner: /pfs/work7/workspace/scratch/ma_faroesch-team_project_fss2024/dataset/KITTI_2015/Common_corruptions/defocus_blur/severity_0/testing/image_3 hat 200 Dateien.\n",
      "Ordner: /pfs/work7/workspace/scratch/ma_faroesch-team_project_fss2024/dataset/KITTI_2015/Common_corruptions/gaussian_noise hat 2000 Dateien, aber Unterordner: /pfs/work7/workspace/scratch/ma_faroesch-team_project_fss2024/dataset/KITTI_2015/Common_corruptions/gaussian_noise/severity_3 hat 400 Dateien.\n",
      "Ordner: /pfs/work7/workspace/scratch/ma_faroesch-team_project_fss2024/dataset/KITTI_2015/Common_corruptions/gaussian_noise hat 2000 Dateien, aber Unterordner: /pfs/work7/workspace/scratch/ma_faroesch-team_project_fss2024/dataset/KITTI_2015/Common_corruptions/gaussian_noise/severity_2 hat 400 Dateien.\n",
      "Ordner: /pfs/work7/workspace/scratch/ma_faroesch-team_project_fss2024/dataset/KITTI_2015/Common_corruptions/gaussian_noise hat 2000 Dateien, aber Unterordner: /pfs/work7/workspace/scratch/ma_faroesch-team_project_fss2024/dataset/KITTI_2015/Common_corruptions/gaussian_noise/severity_1 hat 400 Dateien.\n",
      "Ordner: /pfs/work7/workspace/scratch/ma_faroesch-team_project_fss2024/dataset/KITTI_2015/Common_corruptions/gaussian_noise hat 2000 Dateien, aber Unterordner: /pfs/work7/workspace/scratch/ma_faroesch-team_project_fss2024/dataset/KITTI_2015/Common_corruptions/gaussian_noise/severity_4 hat 400 Dateien.\n",
      "Ordner: /pfs/work7/workspace/scratch/ma_faroesch-team_project_fss2024/dataset/KITTI_2015/Common_corruptions/gaussian_noise hat 2000 Dateien, aber Unterordner: /pfs/work7/workspace/scratch/ma_faroesch-team_project_fss2024/dataset/KITTI_2015/Common_corruptions/gaussian_noise/severity_0 hat 400 Dateien.\n",
      "Ordner: /pfs/work7/workspace/scratch/ma_faroesch-team_project_fss2024/dataset/KITTI_2015/Common_corruptions/gaussian_noise/severity_3/testing hat 400 Dateien, aber Unterordner: /pfs/work7/workspace/scratch/ma_faroesch-team_project_fss2024/dataset/KITTI_2015/Common_corruptions/gaussian_noise/severity_3/testing/image_2 hat 200 Dateien.\n",
      "Ordner: /pfs/work7/workspace/scratch/ma_faroesch-team_project_fss2024/dataset/KITTI_2015/Common_corruptions/gaussian_noise/severity_3/testing hat 400 Dateien, aber Unterordner: /pfs/work7/workspace/scratch/ma_faroesch-team_project_fss2024/dataset/KITTI_2015/Common_corruptions/gaussian_noise/severity_3/testing/image_3 hat 200 Dateien.\n",
      "Ordner: /pfs/work7/workspace/scratch/ma_faroesch-team_project_fss2024/dataset/KITTI_2015/Common_corruptions/gaussian_noise/severity_2/testing hat 400 Dateien, aber Unterordner: /pfs/work7/workspace/scratch/ma_faroesch-team_project_fss2024/dataset/KITTI_2015/Common_corruptions/gaussian_noise/severity_2/testing/image_2 hat 200 Dateien.\n",
      "Ordner: /pfs/work7/workspace/scratch/ma_faroesch-team_project_fss2024/dataset/KITTI_2015/Common_corruptions/gaussian_noise/severity_2/testing hat 400 Dateien, aber Unterordner: /pfs/work7/workspace/scratch/ma_faroesch-team_project_fss2024/dataset/KITTI_2015/Common_corruptions/gaussian_noise/severity_2/testing/image_3 hat 200 Dateien.\n",
      "Ordner: /pfs/work7/workspace/scratch/ma_faroesch-team_project_fss2024/dataset/KITTI_2015/Common_corruptions/gaussian_noise/severity_1/testing hat 400 Dateien, aber Unterordner: /pfs/work7/workspace/scratch/ma_faroesch-team_project_fss2024/dataset/KITTI_2015/Common_corruptions/gaussian_noise/severity_1/testing/image_2 hat 200 Dateien.\n",
      "Ordner: /pfs/work7/workspace/scratch/ma_faroesch-team_project_fss2024/dataset/KITTI_2015/Common_corruptions/gaussian_noise/severity_1/testing hat 400 Dateien, aber Unterordner: /pfs/work7/workspace/scratch/ma_faroesch-team_project_fss2024/dataset/KITTI_2015/Common_corruptions/gaussian_noise/severity_1/testing/image_3 hat 200 Dateien.\n",
      "Ordner: /pfs/work7/workspace/scratch/ma_faroesch-team_project_fss2024/dataset/KITTI_2015/Common_corruptions/gaussian_noise/severity_4/testing hat 400 Dateien, aber Unterordner: /pfs/work7/workspace/scratch/ma_faroesch-team_project_fss2024/dataset/KITTI_2015/Common_corruptions/gaussian_noise/severity_4/testing/image_2 hat 200 Dateien.\n",
      "Ordner: /pfs/work7/workspace/scratch/ma_faroesch-team_project_fss2024/dataset/KITTI_2015/Common_corruptions/gaussian_noise/severity_4/testing hat 400 Dateien, aber Unterordner: /pfs/work7/workspace/scratch/ma_faroesch-team_project_fss2024/dataset/KITTI_2015/Common_corruptions/gaussian_noise/severity_4/testing/image_3 hat 200 Dateien.\n",
      "Ordner: /pfs/work7/workspace/scratch/ma_faroesch-team_project_fss2024/dataset/KITTI_2015/Common_corruptions/gaussian_noise/severity_0/testing hat 400 Dateien, aber Unterordner: /pfs/work7/workspace/scratch/ma_faroesch-team_project_fss2024/dataset/KITTI_2015/Common_corruptions/gaussian_noise/severity_0/testing/image_2 hat 200 Dateien.\n",
      "Ordner: /pfs/work7/workspace/scratch/ma_faroesch-team_project_fss2024/dataset/KITTI_2015/Common_corruptions/gaussian_noise/severity_0/testing hat 400 Dateien, aber Unterordner: /pfs/work7/workspace/scratch/ma_faroesch-team_project_fss2024/dataset/KITTI_2015/Common_corruptions/gaussian_noise/severity_0/testing/image_3 hat 200 Dateien.\n",
      "Ordner: /pfs/work7/workspace/scratch/ma_faroesch-team_project_fss2024/dataset/KITTI_2015/Common_corruptions/impulse_noise hat 2000 Dateien, aber Unterordner: /pfs/work7/workspace/scratch/ma_faroesch-team_project_fss2024/dataset/KITTI_2015/Common_corruptions/impulse_noise/severity_3 hat 400 Dateien.\n",
      "Ordner: /pfs/work7/workspace/scratch/ma_faroesch-team_project_fss2024/dataset/KITTI_2015/Common_corruptions/impulse_noise hat 2000 Dateien, aber Unterordner: /pfs/work7/workspace/scratch/ma_faroesch-team_project_fss2024/dataset/KITTI_2015/Common_corruptions/impulse_noise/severity_2 hat 400 Dateien.\n",
      "Ordner: /pfs/work7/workspace/scratch/ma_faroesch-team_project_fss2024/dataset/KITTI_2015/Common_corruptions/impulse_noise hat 2000 Dateien, aber Unterordner: /pfs/work7/workspace/scratch/ma_faroesch-team_project_fss2024/dataset/KITTI_2015/Common_corruptions/impulse_noise/severity_1 hat 400 Dateien.\n",
      "Ordner: /pfs/work7/workspace/scratch/ma_faroesch-team_project_fss2024/dataset/KITTI_2015/Common_corruptions/impulse_noise hat 2000 Dateien, aber Unterordner: /pfs/work7/workspace/scratch/ma_faroesch-team_project_fss2024/dataset/KITTI_2015/Common_corruptions/impulse_noise/severity_4 hat 400 Dateien.\n",
      "Ordner: /pfs/work7/workspace/scratch/ma_faroesch-team_project_fss2024/dataset/KITTI_2015/Common_corruptions/impulse_noise hat 2000 Dateien, aber Unterordner: /pfs/work7/workspace/scratch/ma_faroesch-team_project_fss2024/dataset/KITTI_2015/Common_corruptions/impulse_noise/severity_0 hat 400 Dateien.\n",
      "Ordner: /pfs/work7/workspace/scratch/ma_faroesch-team_project_fss2024/dataset/KITTI_2015/Common_corruptions/impulse_noise/severity_3/testing hat 400 Dateien, aber Unterordner: /pfs/work7/workspace/scratch/ma_faroesch-team_project_fss2024/dataset/KITTI_2015/Common_corruptions/impulse_noise/severity_3/testing/image_2 hat 200 Dateien.\n",
      "Ordner: /pfs/work7/workspace/scratch/ma_faroesch-team_project_fss2024/dataset/KITTI_2015/Common_corruptions/impulse_noise/severity_3/testing hat 400 Dateien, aber Unterordner: /pfs/work7/workspace/scratch/ma_faroesch-team_project_fss2024/dataset/KITTI_2015/Common_corruptions/impulse_noise/severity_3/testing/image_3 hat 200 Dateien.\n",
      "Ordner: /pfs/work7/workspace/scratch/ma_faroesch-team_project_fss2024/dataset/KITTI_2015/Common_corruptions/impulse_noise/severity_2/testing hat 400 Dateien, aber Unterordner: /pfs/work7/workspace/scratch/ma_faroesch-team_project_fss2024/dataset/KITTI_2015/Common_corruptions/impulse_noise/severity_2/testing/image_2 hat 200 Dateien.\n",
      "Ordner: /pfs/work7/workspace/scratch/ma_faroesch-team_project_fss2024/dataset/KITTI_2015/Common_corruptions/impulse_noise/severity_2/testing hat 400 Dateien, aber Unterordner: /pfs/work7/workspace/scratch/ma_faroesch-team_project_fss2024/dataset/KITTI_2015/Common_corruptions/impulse_noise/severity_2/testing/image_3 hat 200 Dateien.\n",
      "Ordner: /pfs/work7/workspace/scratch/ma_faroesch-team_project_fss2024/dataset/KITTI_2015/Common_corruptions/impulse_noise/severity_1/testing hat 400 Dateien, aber Unterordner: /pfs/work7/workspace/scratch/ma_faroesch-team_project_fss2024/dataset/KITTI_2015/Common_corruptions/impulse_noise/severity_1/testing/image_2 hat 200 Dateien.\n",
      "Ordner: /pfs/work7/workspace/scratch/ma_faroesch-team_project_fss2024/dataset/KITTI_2015/Common_corruptions/impulse_noise/severity_1/testing hat 400 Dateien, aber Unterordner: /pfs/work7/workspace/scratch/ma_faroesch-team_project_fss2024/dataset/KITTI_2015/Common_corruptions/impulse_noise/severity_1/testing/image_3 hat 200 Dateien.\n",
      "Ordner: /pfs/work7/workspace/scratch/ma_faroesch-team_project_fss2024/dataset/KITTI_2015/Common_corruptions/impulse_noise/severity_4/testing hat 400 Dateien, aber Unterordner: /pfs/work7/workspace/scratch/ma_faroesch-team_project_fss2024/dataset/KITTI_2015/Common_corruptions/impulse_noise/severity_4/testing/image_2 hat 200 Dateien.\n",
      "Ordner: /pfs/work7/workspace/scratch/ma_faroesch-team_project_fss2024/dataset/KITTI_2015/Common_corruptions/impulse_noise/severity_4/testing hat 400 Dateien, aber Unterordner: /pfs/work7/workspace/scratch/ma_faroesch-team_project_fss2024/dataset/KITTI_2015/Common_corruptions/impulse_noise/severity_4/testing/image_3 hat 200 Dateien.\n",
      "Ordner: /pfs/work7/workspace/scratch/ma_faroesch-team_project_fss2024/dataset/KITTI_2015/Common_corruptions/impulse_noise/severity_0/testing hat 400 Dateien, aber Unterordner: /pfs/work7/workspace/scratch/ma_faroesch-team_project_fss2024/dataset/KITTI_2015/Common_corruptions/impulse_noise/severity_0/testing/image_2 hat 200 Dateien.\n",
      "Ordner: /pfs/work7/workspace/scratch/ma_faroesch-team_project_fss2024/dataset/KITTI_2015/Common_corruptions/impulse_noise/severity_0/testing hat 400 Dateien, aber Unterordner: /pfs/work7/workspace/scratch/ma_faroesch-team_project_fss2024/dataset/KITTI_2015/Common_corruptions/impulse_noise/severity_0/testing/image_3 hat 200 Dateien.\n",
      "Ordner: /pfs/work7/workspace/scratch/ma_faroesch-team_project_fss2024/dataset/KITTI_2015/Common_corruptions/shot_noise hat 2000 Dateien, aber Unterordner: /pfs/work7/workspace/scratch/ma_faroesch-team_project_fss2024/dataset/KITTI_2015/Common_corruptions/shot_noise/severity_3 hat 400 Dateien.\n",
      "Ordner: /pfs/work7/workspace/scratch/ma_faroesch-team_project_fss2024/dataset/KITTI_2015/Common_corruptions/shot_noise hat 2000 Dateien, aber Unterordner: /pfs/work7/workspace/scratch/ma_faroesch-team_project_fss2024/dataset/KITTI_2015/Common_corruptions/shot_noise/severity_2 hat 400 Dateien.\n",
      "Ordner: /pfs/work7/workspace/scratch/ma_faroesch-team_project_fss2024/dataset/KITTI_2015/Common_corruptions/shot_noise hat 2000 Dateien, aber Unterordner: /pfs/work7/workspace/scratch/ma_faroesch-team_project_fss2024/dataset/KITTI_2015/Common_corruptions/shot_noise/severity_1 hat 400 Dateien.\n",
      "Ordner: /pfs/work7/workspace/scratch/ma_faroesch-team_project_fss2024/dataset/KITTI_2015/Common_corruptions/shot_noise hat 2000 Dateien, aber Unterordner: /pfs/work7/workspace/scratch/ma_faroesch-team_project_fss2024/dataset/KITTI_2015/Common_corruptions/shot_noise/severity_4 hat 400 Dateien.\n",
      "Ordner: /pfs/work7/workspace/scratch/ma_faroesch-team_project_fss2024/dataset/KITTI_2015/Common_corruptions/shot_noise hat 2000 Dateien, aber Unterordner: /pfs/work7/workspace/scratch/ma_faroesch-team_project_fss2024/dataset/KITTI_2015/Common_corruptions/shot_noise/severity_0 hat 400 Dateien.\n",
      "Ordner: /pfs/work7/workspace/scratch/ma_faroesch-team_project_fss2024/dataset/KITTI_2015/Common_corruptions/shot_noise/severity_3/testing hat 400 Dateien, aber Unterordner: /pfs/work7/workspace/scratch/ma_faroesch-team_project_fss2024/dataset/KITTI_2015/Common_corruptions/shot_noise/severity_3/testing/image_2 hat 200 Dateien.\n",
      "Ordner: /pfs/work7/workspace/scratch/ma_faroesch-team_project_fss2024/dataset/KITTI_2015/Common_corruptions/shot_noise/severity_3/testing hat 400 Dateien, aber Unterordner: /pfs/work7/workspace/scratch/ma_faroesch-team_project_fss2024/dataset/KITTI_2015/Common_corruptions/shot_noise/severity_3/testing/image_3 hat 200 Dateien.\n",
      "Ordner: /pfs/work7/workspace/scratch/ma_faroesch-team_project_fss2024/dataset/KITTI_2015/Common_corruptions/shot_noise/severity_2/testing hat 400 Dateien, aber Unterordner: /pfs/work7/workspace/scratch/ma_faroesch-team_project_fss2024/dataset/KITTI_2015/Common_corruptions/shot_noise/severity_2/testing/image_2 hat 200 Dateien.\n",
      "Ordner: /pfs/work7/workspace/scratch/ma_faroesch-team_project_fss2024/dataset/KITTI_2015/Common_corruptions/shot_noise/severity_2/testing hat 400 Dateien, aber Unterordner: /pfs/work7/workspace/scratch/ma_faroesch-team_project_fss2024/dataset/KITTI_2015/Common_corruptions/shot_noise/severity_2/testing/image_3 hat 200 Dateien.\n",
      "Ordner: /pfs/work7/workspace/scratch/ma_faroesch-team_project_fss2024/dataset/KITTI_2015/Common_corruptions/shot_noise/severity_1/testing hat 400 Dateien, aber Unterordner: /pfs/work7/workspace/scratch/ma_faroesch-team_project_fss2024/dataset/KITTI_2015/Common_corruptions/shot_noise/severity_1/testing/image_2 hat 200 Dateien.\n",
      "Ordner: /pfs/work7/workspace/scratch/ma_faroesch-team_project_fss2024/dataset/KITTI_2015/Common_corruptions/shot_noise/severity_1/testing hat 400 Dateien, aber Unterordner: /pfs/work7/workspace/scratch/ma_faroesch-team_project_fss2024/dataset/KITTI_2015/Common_corruptions/shot_noise/severity_1/testing/image_3 hat 200 Dateien.\n",
      "Ordner: /pfs/work7/workspace/scratch/ma_faroesch-team_project_fss2024/dataset/KITTI_2015/Common_corruptions/shot_noise/severity_4/testing hat 400 Dateien, aber Unterordner: /pfs/work7/workspace/scratch/ma_faroesch-team_project_fss2024/dataset/KITTI_2015/Common_corruptions/shot_noise/severity_4/testing/image_2 hat 200 Dateien.\n",
      "Ordner: /pfs/work7/workspace/scratch/ma_faroesch-team_project_fss2024/dataset/KITTI_2015/Common_corruptions/shot_noise/severity_4/testing hat 400 Dateien, aber Unterordner: /pfs/work7/workspace/scratch/ma_faroesch-team_project_fss2024/dataset/KITTI_2015/Common_corruptions/shot_noise/severity_4/testing/image_3 hat 200 Dateien.\n",
      "Ordner: /pfs/work7/workspace/scratch/ma_faroesch-team_project_fss2024/dataset/KITTI_2015/Common_corruptions/shot_noise/severity_0/testing hat 400 Dateien, aber Unterordner: /pfs/work7/workspace/scratch/ma_faroesch-team_project_fss2024/dataset/KITTI_2015/Common_corruptions/shot_noise/severity_0/testing/image_2 hat 200 Dateien.\n",
      "Ordner: /pfs/work7/workspace/scratch/ma_faroesch-team_project_fss2024/dataset/KITTI_2015/Common_corruptions/shot_noise/severity_0/testing hat 400 Dateien, aber Unterordner: /pfs/work7/workspace/scratch/ma_faroesch-team_project_fss2024/dataset/KITTI_2015/Common_corruptions/shot_noise/severity_0/testing/image_3 hat 200 Dateien.\n"
     ]
    }
   ],
   "source": [
    "main()"
   ]
  }
 ],
 "metadata": {
  "kernelspec": {
   "display_name": "unified_env",
   "language": "python",
   "name": "python3"
  },
  "language_info": {
   "codemirror_mode": {
    "name": "ipython",
    "version": 3
   },
   "file_extension": ".py",
   "mimetype": "text/x-python",
   "name": "python",
   "nbconvert_exporter": "python",
   "pygments_lexer": "ipython3",
   "version": "3.1.-1"
  }
 },
 "nbformat": 4,
 "nbformat_minor": 2
}
