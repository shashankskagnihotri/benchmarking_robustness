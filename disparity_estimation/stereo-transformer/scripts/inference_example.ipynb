{
 "cells": [
  {
   "cell_type": "code",
   "execution_count": null,
   "metadata": {},
   "outputs": [],
   "source": [
    "from PIL import Image\n",
    "import torch\n",
    "import argparse\n",
    "import numpy as np\n",
    "import matplotlib.pyplot as plt\n",
    "import sys\n",
    "sys.path.append('../') # add relative path\n",
    "\n",
    "from module.sttr import STTR\n",
    "from dataset.preprocess import normalization, compute_left_occ_region\n",
    "from utilities.misc import NestedTensor"
   ]
  },
  {
   "cell_type": "markdown",
   "metadata": {},
   "source": [
    "### Define STTR model"
   ]
  },
  {
   "cell_type": "code",
   "execution_count": null,
   "metadata": {},
   "outputs": [],
   "source": [
    "# Default parameters\n",
    "args = type('', (), {})() # create empty args\n",
    "args.channel_dim = 128\n",
    "args.position_encoding='sine1d_rel'\n",
    "args.num_attn_layers=6\n",
    "args.nheads=8\n",
    "args.regression_head='ot'\n",
    "args.context_adjustment_layer='cal'\n",
    "args.cal_num_blocks=8\n",
    "args.cal_feat_dim=16\n",
    "args.cal_expansion_ratio=4"
   ]
  },
  {
   "cell_type": "code",
   "execution_count": null,
   "metadata": {},
   "outputs": [],
   "source": [
    "model = STTR(args).cuda().eval()"
   ]
  },
  {
   "cell_type": "code",
   "execution_count": null,
   "metadata": {},
   "outputs": [],
   "source": [
    "import os\n",
    "os.getcwd()"
   ]
  },
  {
   "cell_type": "code",
   "execution_count": null,
   "metadata": {},
   "outputs": [],
   "source": [
    "# Load the pretrained model\n",
    "model_file_name = \"../kitti_finetuned_model.pth.tar\"\n",
    "checkpoint = torch.load(model_file_name)\n",
    "pretrained_dict = checkpoint['state_dict']\n",
    "model.load_state_dict(pretrained_dict, strict=False) # prevent BN parameters from breaking the model loading\n",
    "print(\"Pre-trained model successfully loaded.\")"
   ]
  },
  {
   "cell_type": "markdown",
   "metadata": {},
   "source": [
    "### Read image"
   ]
  },
  {
   "cell_type": "code",
   "execution_count": null,
   "metadata": {},
   "outputs": [],
   "source": [
    "left = np.array(Image.open('../sample_data/KITTI_2015/training/image_2/000046_10.png'))\n",
    "right = np.array(Image.open('../sample_data/KITTI_2015/training/image_3/000046_10.png'))\n",
    "disp = np.array(Image.open('../sample_data/KITTI_2015/training/disp_occ_0/000046_10.png')).astype(float) / 256."
   ]
  },
  {
   "cell_type": "code",
   "execution_count": null,
   "metadata": {},
   "outputs": [],
   "source": [
    "# Visualize image\n",
    "plt.figure(1)\n",
    "plt.imshow(left)\n",
    "plt.figure(2)\n",
    "plt.imshow(right)\n",
    "plt.figure(3)\n",
    "plt.imshow(disp)"
   ]
  },
  {
   "cell_type": "markdown",
   "metadata": {},
   "source": [
    "Preprocess data for STTR"
   ]
  },
  {
   "cell_type": "code",
   "execution_count": null,
   "metadata": {},
   "outputs": [],
   "source": [
    "# normalize\n",
    "input_data = {'left': left, 'right':right, 'disp':disp}\n",
    "input_data = normalization(**input_data)"
   ]
  },
  {
   "cell_type": "code",
   "execution_count": null,
   "metadata": {},
   "outputs": [],
   "source": [
    "# donwsample attention by stride of 3\n",
    "h, w, _ = left.shape\n",
    "bs = 1\n",
    "\n",
    "downsample = 3\n",
    "col_offset = int(downsample / 2)\n",
    "row_offset = int(downsample / 2)\n",
    "sampled_cols = torch.arange(col_offset, w, downsample)[None,].expand(bs, -1).cuda()\n",
    "sampled_rows = torch.arange(row_offset, h, downsample)[None,].expand(bs, -1).cuda()"
   ]
  },
  {
   "cell_type": "code",
   "execution_count": null,
   "metadata": {},
   "outputs": [],
   "source": [
    "# build NestedTensor\n",
    "input_data = NestedTensor(input_data['left'].cuda()[None,],input_data['right'].cuda()[None,], sampled_cols=sampled_cols, sampled_rows=sampled_rows)"
   ]
  },
  {
   "cell_type": "markdown",
   "metadata": {},
   "source": [
    "### Inference"
   ]
  },
  {
   "cell_type": "code",
   "execution_count": null,
   "metadata": {},
   "outputs": [],
   "source": [
    "output = model(input_data)"
   ]
  },
  {
   "cell_type": "code",
   "execution_count": null,
   "metadata": {},
   "outputs": [],
   "source": [
    "# set disparity of occ area to 0\n",
    "disp_pred = output['disp_pred'].data.cpu().numpy()[0]\n",
    "occ_pred = output['occ_pred'].data.cpu().numpy()[0] > 0.5\n",
    "disp_pred[occ_pred] = 0.0"
   ]
  },
  {
   "cell_type": "code",
   "execution_count": null,
   "metadata": {},
   "outputs": [],
   "source": [
    "# visualize predicted disparity and occlusion map\n",
    "plt.figure(4)\n",
    "plt.imshow(disp_pred)\n",
    "plt.figure(5)\n",
    "plt.imshow(occ_pred)"
   ]
  },
  {
   "cell_type": "markdown",
   "metadata": {},
   "source": [
    "### Compute metrics"
   ]
  },
  {
   "cell_type": "code",
   "execution_count": null,
   "metadata": {},
   "outputs": [],
   "source": [
    "# manually compute occluded region\n",
    "occ_mask = compute_left_occ_region(w, disp)\n",
    "\n",
    "# visualize the known occluded region\n",
    "plt.figure(6)\n",
    "plt.imshow(occ_mask)"
   ]
  },
  {
   "cell_type": "code",
   "execution_count": null,
   "metadata": {},
   "outputs": [],
   "source": [
    "# compute difference in non-occluded region only\n",
    "diff = disp - disp_pred\n",
    "diff[occ_mask] = 0.0 # set occ area to be 0.0\n",
    "\n",
    "# Note: code for computing the metrics can be found in module/loss.py\n",
    "valid_mask = np.logical_and(disp > 0.0, ~occ_mask)\n",
    "\n",
    "# find 3 px error\n",
    "err_px = (diff > 3).sum()\n",
    "total_px = (valid_mask).sum()\n",
    "print('3 px error %.3f%%'%(err_px*100.0/total_px))\n",
    "\n",
    "# find epe\n",
    "err = np.abs(diff[valid_mask]).sum()\n",
    "print('EPE %f'%(err * 1.0/ total_px))"
   ]
  },
  {
   "cell_type": "code",
   "execution_count": null,
   "metadata": {},
   "outputs": [],
   "source": []
  }
 ],
 "metadata": {
  "kernelspec": {
   "display_name": "Python 3 (ipykernel)",
   "language": "python",
   "name": "python3"
  },
  "language_info": {
   "codemirror_mode": {
    "name": "ipython",
    "version": 3
   },
   "file_extension": ".py",
   "mimetype": "text/x-python",
   "name": "python",
   "nbconvert_exporter": "python",
   "pygments_lexer": "ipython3",
   "version": "3.9.18"
  }
 },
 "nbformat": 4,
 "nbformat_minor": 4
}
