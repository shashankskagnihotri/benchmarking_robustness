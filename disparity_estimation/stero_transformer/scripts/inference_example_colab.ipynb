{
 "cells": [
  {
   "cell_type": "markdown",
   "metadata": {
    "id": "WOJcxO0vHtOQ"
   },
   "source": [
    "## Requirement\n",
    "Runtime Type = Python 3\n",
    "\n",
    "Hardware Accelerator = GPU"
   ]
  },
  {
   "cell_type": "markdown",
   "metadata": {
    "id": "x_Qh5oF2IQC3"
   },
   "source": [
    "## Download code and setup"
   ]
  },
  {
   "cell_type": "code",
   "execution_count": null,
   "metadata": {
    "colab": {
     "base_uri": "https://localhost:8080/"
    },
    "executionInfo": {
     "elapsed": 479,
     "status": "ok",
     "timestamp": 1604676207029,
     "user": {
      "displayName": "Max Li",
      "photoUrl": "https://lh3.googleusercontent.com/a-/AOh14GjbS1nGPpZCGiqa9ALLOpOeGCpzMycUSjYNZKA8Vg=s64",
      "userId": "18112864908242751804"
     },
     "user_tz": 300
    },
    "id": "pbaCUeiXJbb5",
    "outputId": "c5d90eaa-2a48-4c12-bf3c-7c99e5993861"
   },
   "outputs": [],
   "source": [
    "!git clone https://github.com/mli0603/stereo-transformer"
   ]
  },
  {
   "cell_type": "code",
   "execution_count": null,
   "metadata": {
    "colab": {
     "base_uri": "https://localhost:8080/"
    },
    "executionInfo": {
     "elapsed": 475,
     "status": "ok",
     "timestamp": 1604676207031,
     "user": {
      "displayName": "Max Li",
      "photoUrl": "https://lh3.googleusercontent.com/a-/AOh14GjbS1nGPpZCGiqa9ALLOpOeGCpzMycUSjYNZKA8Vg=s64",
      "userId": "18112864908242751804"
     },
     "user_tz": 300
    },
    "id": "omuldVaMHkuU",
    "outputId": "0f764278-44f2-4749-b179-659ef15b6abb"
   },
   "outputs": [],
   "source": [
    "cd stereo-transformer"
   ]
  },
  {
   "cell_type": "markdown",
   "metadata": {
    "id": "qBAZD3-eI_gp"
   },
   "source": [
    "### install dependencies"
   ]
  },
  {
   "cell_type": "code",
   "execution_count": null,
   "metadata": {
    "colab": {
     "base_uri": "https://localhost:8080/"
    },
    "executionInfo": {
     "elapsed": 5539,
     "status": "ok",
     "timestamp": 1604676212100,
     "user": {
      "displayName": "Max Li",
      "photoUrl": "https://lh3.googleusercontent.com/a-/AOh14GjbS1nGPpZCGiqa9ALLOpOeGCpzMycUSjYNZKA8Vg=s64",
      "userId": "18112864908242751804"
     },
     "user_tz": 300
    },
    "id": "dUIAxAp-Ib6_",
    "outputId": "08f1f2a5-7492-48a3-950e-0b404b85aba2"
   },
   "outputs": [],
   "source": [
    "!pip install -r requirements.txt\n",
    "!pip install gdown"
   ]
  },
  {
   "cell_type": "markdown",
   "metadata": {
    "id": "MAktf4eLJCRn"
   },
   "source": [
    "### get pretrained model"
   ]
  },
  {
   "cell_type": "code",
   "execution_count": null,
   "metadata": {
    "colab": {
     "base_uri": "https://localhost:8080/",
     "height": 102
    },
    "executionInfo": {
     "elapsed": 7023,
     "status": "ok",
     "timestamp": 1604676213590,
     "user": {
      "displayName": "Max Li",
      "photoUrl": "https://lh3.googleusercontent.com/a-/AOh14GjbS1nGPpZCGiqa9ALLOpOeGCpzMycUSjYNZKA8Vg=s64",
      "userId": "18112864908242751804"
     },
     "user_tz": 300
    },
    "id": "lUAeXHXLIxg8",
    "outputId": "8079fc5f-fcfc-4a9d-8d2a-64f555839125"
   },
   "outputs": [],
   "source": [
    "import gdown\n",
    "url = 'https://drive.google.com/uc?id=1UUESCCnOsb7TqzwYMkVV3d23k8shxNcE'\n",
    "gdown.download(url,'kitti_finetuned_model.pth.tar',quiet=False) "
   ]
  },
  {
   "cell_type": "markdown",
   "metadata": {
    "id": "3-RZSDudJG95"
   },
   "source": [
    "### verify gpu is configured correctly"
   ]
  },
  {
   "cell_type": "code",
   "execution_count": null,
   "metadata": {
    "executionInfo": {
     "elapsed": 7673,
     "status": "ok",
     "timestamp": 1604676214245,
     "user": {
      "displayName": "Max Li",
      "photoUrl": "https://lh3.googleusercontent.com/a-/AOh14GjbS1nGPpZCGiqa9ALLOpOeGCpzMycUSjYNZKA8Vg=s64",
      "userId": "18112864908242751804"
     },
     "user_tz": 300
    },
    "id": "u-mmosLNIiNc"
   },
   "outputs": [],
   "source": [
    "import torch\n",
    "if not torch.cuda.is_available():\n",
    "    print('GPU not available.')"
   ]
  },
  {
   "cell_type": "markdown",
   "metadata": {
    "id": "qlcJu2HNJMT4"
   },
   "source": [
    "### import dependencies"
   ]
  },
  {
   "cell_type": "code",
   "execution_count": null,
   "metadata": {
    "executionInfo": {
     "elapsed": 7958,
     "status": "ok",
     "timestamp": 1604676214533,
     "user": {
      "displayName": "Max Li",
      "photoUrl": "https://lh3.googleusercontent.com/a-/AOh14GjbS1nGPpZCGiqa9ALLOpOeGCpzMycUSjYNZKA8Vg=s64",
      "userId": "18112864908242751804"
     },
     "user_tz": 300
    },
    "id": "o8cT6GpeJYV3"
   },
   "outputs": [],
   "source": [
    "from PIL import Image\n",
    "import torch\n",
    "import argparse\n",
    "import numpy as np\n",
    "import matplotlib.pyplot as plt\n",
    "\n",
    "from module.sttr import STTR\n",
    "from dataset.preprocess import normalization, compute_left_occ_region\n",
    "from utilities.misc import NestedTensor"
   ]
  },
  {
   "cell_type": "markdown",
   "metadata": {
    "id": "wrymImBIJpP-"
   },
   "source": [
    "## Inference"
   ]
  },
  {
   "cell_type": "markdown",
   "metadata": {
    "id": "1KB89DQHJsEA"
   },
   "source": [
    "### Define STTR model"
   ]
  },
  {
   "cell_type": "code",
   "execution_count": null,
   "metadata": {
    "executionInfo": {
     "elapsed": 7955,
     "status": "ok",
     "timestamp": 1604676214533,
     "user": {
      "displayName": "Max Li",
      "photoUrl": "https://lh3.googleusercontent.com/a-/AOh14GjbS1nGPpZCGiqa9ALLOpOeGCpzMycUSjYNZKA8Vg=s64",
      "userId": "18112864908242751804"
     },
     "user_tz": 300
    },
    "id": "-FrSu3EpJlAR"
   },
   "outputs": [],
   "source": [
    "# Default parameters\n",
    "args = type('', (), {})() # create empty args\n",
    "args.channel_dim = 128\n",
    "args.position_encoding='sine1d_rel'\n",
    "args.num_attn_layers=6\n",
    "args.nheads=8\n",
    "args.regression_head='ot'\n",
    "args.context_adjustment_layer='cal'\n",
    "args.cal_num_blocks=8\n",
    "args.cal_feat_dim=16\n",
    "args.cal_expansion_ratio=4"
   ]
  },
  {
   "cell_type": "code",
   "execution_count": null,
   "metadata": {
    "executionInfo": {
     "elapsed": 12519,
     "status": "ok",
     "timestamp": 1604676219101,
     "user": {
      "displayName": "Max Li",
      "photoUrl": "https://lh3.googleusercontent.com/a-/AOh14GjbS1nGPpZCGiqa9ALLOpOeGCpzMycUSjYNZKA8Vg=s64",
      "userId": "18112864908242751804"
     },
     "user_tz": 300
    },
    "id": "KBg_HIEsJzPu"
   },
   "outputs": [],
   "source": [
    "model = STTR(args).cuda().eval()"
   ]
  },
  {
   "cell_type": "code",
   "execution_count": null,
   "metadata": {
    "colab": {
     "base_uri": "https://localhost:8080/"
    },
    "executionInfo": {
     "elapsed": 12517,
     "status": "ok",
     "timestamp": 1604676219103,
     "user": {
      "displayName": "Max Li",
      "photoUrl": "https://lh3.googleusercontent.com/a-/AOh14GjbS1nGPpZCGiqa9ALLOpOeGCpzMycUSjYNZKA8Vg=s64",
      "userId": "18112864908242751804"
     },
     "user_tz": 300
    },
    "id": "cciqgL77Jzqo",
    "outputId": "4d9dfc13-9bbc-427a-aa47-db74d4278c6c"
   },
   "outputs": [],
   "source": [
    "# Load the pretrained model\n",
    "model_file_name = \"kitti_finetuned_model.pth.tar\"\n",
    "checkpoint = torch.load(model_file_name)\n",
    "pretrained_dict = checkpoint['state_dict']\n",
    "model.load_state_dict(pretrained_dict, strict=False) # prevent BN parameters from breaking the model loading\n",
    "print(\"Pre-trained model successfully loaded.\")"
   ]
  },
  {
   "cell_type": "markdown",
   "metadata": {
    "id": "hBe_edxsJ6kQ"
   },
   "source": [
    "### Read image"
   ]
  },
  {
   "cell_type": "code",
   "execution_count": null,
   "metadata": {
    "executionInfo": {
     "elapsed": 12660,
     "status": "ok",
     "timestamp": 1604676219250,
     "user": {
      "displayName": "Max Li",
      "photoUrl": "https://lh3.googleusercontent.com/a-/AOh14GjbS1nGPpZCGiqa9ALLOpOeGCpzMycUSjYNZKA8Vg=s64",
      "userId": "18112864908242751804"
     },
     "user_tz": 300
    },
    "id": "ZklUfOLEJ141"
   },
   "outputs": [],
   "source": [
    "left = np.array(Image.open('sample_data/KITTI_2015/training/image_2/000046_10.png'))\n",
    "right = np.array(Image.open('sample_data/KITTI_2015/training/image_3/000046_10.png'))\n",
    "disp = np.array(Image.open('sample_data/KITTI_2015/training/disp_occ_0/000046_10.png')).astype(np.float) / 256."
   ]
  },
  {
   "cell_type": "code",
   "execution_count": null,
   "metadata": {
    "colab": {
     "base_uri": "https://localhost:8080/",
     "height": 442
    },
    "executionInfo": {
     "elapsed": 13464,
     "status": "ok",
     "timestamp": 1604676220058,
     "user": {
      "displayName": "Max Li",
      "photoUrl": "https://lh3.googleusercontent.com/a-/AOh14GjbS1nGPpZCGiqa9ALLOpOeGCpzMycUSjYNZKA8Vg=s64",
      "userId": "18112864908242751804"
     },
     "user_tz": 300
    },
    "id": "q1ICldOeKAEM",
    "outputId": "659307e8-2388-46db-c0ce-4634f613c21c"
   },
   "outputs": [],
   "source": [
    "# Visualize image\n",
    "plt.figure(1)\n",
    "plt.imshow(left)\n",
    "plt.figure(2)\n",
    "plt.imshow(right)\n",
    "plt.figure(3)\n",
    "plt.imshow(disp)"
   ]
  },
  {
   "cell_type": "markdown",
   "metadata": {
    "id": "m8s6XkiSKEEl"
   },
   "source": [
    "### Preprocessing"
   ]
  },
  {
   "cell_type": "code",
   "execution_count": null,
   "metadata": {
    "executionInfo": {
     "elapsed": 13457,
     "status": "ok",
     "timestamp": 1604676220059,
     "user": {
      "displayName": "Max Li",
      "photoUrl": "https://lh3.googleusercontent.com/a-/AOh14GjbS1nGPpZCGiqa9ALLOpOeGCpzMycUSjYNZKA8Vg=s64",
      "userId": "18112864908242751804"
     },
     "user_tz": 300
    },
    "id": "wgYr8m6yKFb8"
   },
   "outputs": [],
   "source": [
    "# normalize\n",
    "input_data = {'left': left, 'right':right, 'disp':disp}\n",
    "input_data = normalization(**input_data)"
   ]
  },
  {
   "cell_type": "code",
   "execution_count": null,
   "metadata": {
    "executionInfo": {
     "elapsed": 13454,
     "status": "ok",
     "timestamp": 1604676220059,
     "user": {
      "displayName": "Max Li",
      "photoUrl": "https://lh3.googleusercontent.com/a-/AOh14GjbS1nGPpZCGiqa9ALLOpOeGCpzMycUSjYNZKA8Vg=s64",
      "userId": "18112864908242751804"
     },
     "user_tz": 300
    },
    "id": "dCvOobwmKIid"
   },
   "outputs": [],
   "source": [
    "# donwsample attention by stride of 3\n",
    "h, w, _ = left.shape\n",
    "bs = 1\n",
    "\n",
    "downsample = 3\n",
    "col_offset = int(downsample / 2)\n",
    "row_offset = int(downsample / 2)\n",
    "sampled_cols = torch.arange(col_offset, w, downsample)[None,].expand(bs, -1).cuda()\n",
    "sampled_rows = torch.arange(row_offset, h, downsample)[None,].expand(bs, -1).cuda()"
   ]
  },
  {
   "cell_type": "code",
   "execution_count": null,
   "metadata": {
    "executionInfo": {
     "elapsed": 13451,
     "status": "ok",
     "timestamp": 1604676220060,
     "user": {
      "displayName": "Max Li",
      "photoUrl": "https://lh3.googleusercontent.com/a-/AOh14GjbS1nGPpZCGiqa9ALLOpOeGCpzMycUSjYNZKA8Vg=s64",
      "userId": "18112864908242751804"
     },
     "user_tz": 300
    },
    "id": "kFJuwNe-KKl7"
   },
   "outputs": [],
   "source": [
    "# build NestedTensor\n",
    "input_data = NestedTensor(input_data['left'].cuda()[None,],input_data['right'].cuda()[None,], sampled_cols=sampled_cols, sampled_rows=sampled_rows)"
   ]
  },
  {
   "cell_type": "markdown",
   "metadata": {
    "id": "uGBjaiK6KM3-"
   },
   "source": [
    "### inference"
   ]
  },
  {
   "cell_type": "code",
   "execution_count": null,
   "metadata": {
    "executionInfo": {
     "elapsed": 16250,
     "status": "ok",
     "timestamp": 1604676222864,
     "user": {
      "displayName": "Max Li",
      "photoUrl": "https://lh3.googleusercontent.com/a-/AOh14GjbS1nGPpZCGiqa9ALLOpOeGCpzMycUSjYNZKA8Vg=s64",
      "userId": "18112864908242751804"
     },
     "user_tz": 300
    },
    "id": "7DHt4NcHKN1f"
   },
   "outputs": [],
   "source": [
    "output = model(input_data)"
   ]
  },
  {
   "cell_type": "code",
   "execution_count": null,
   "metadata": {
    "executionInfo": {
     "elapsed": 16247,
     "status": "ok",
     "timestamp": 1604676222864,
     "user": {
      "displayName": "Max Li",
      "photoUrl": "https://lh3.googleusercontent.com/a-/AOh14GjbS1nGPpZCGiqa9ALLOpOeGCpzMycUSjYNZKA8Vg=s64",
      "userId": "18112864908242751804"
     },
     "user_tz": 300
    },
    "id": "i5orZQdWKPWg"
   },
   "outputs": [],
   "source": [
    "# set disparity of occ area to 0\n",
    "disp_pred = output['disp_pred'].data.cpu().numpy()[0]\n",
    "occ_pred = output['occ_pred'].data.cpu().numpy()[0] > 0.5\n",
    "disp_pred[occ_pred] = 0.0"
   ]
  },
  {
   "cell_type": "code",
   "execution_count": null,
   "metadata": {
    "colab": {
     "base_uri": "https://localhost:8080/",
     "height": 306
    },
    "executionInfo": {
     "elapsed": 16606,
     "status": "ok",
     "timestamp": 1604676223227,
     "user": {
      "displayName": "Max Li",
      "photoUrl": "https://lh3.googleusercontent.com/a-/AOh14GjbS1nGPpZCGiqa9ALLOpOeGCpzMycUSjYNZKA8Vg=s64",
      "userId": "18112864908242751804"
     },
     "user_tz": 300
    },
    "id": "_m038LeNKRz5",
    "outputId": "9c2c3c23-b301-4a19-8941-3de005246f34"
   },
   "outputs": [],
   "source": [
    "# visualize predicted disparity and occlusion map\n",
    "plt.figure(4)\n",
    "plt.imshow(disp_pred)\n",
    "plt.figure(5)\n",
    "plt.imshow(occ_pred)"
   ]
  },
  {
   "cell_type": "code",
   "execution_count": null,
   "metadata": {
    "colab": {
     "base_uri": "https://localhost:8080/",
     "height": 170
    },
    "executionInfo": {
     "elapsed": 16796,
     "status": "ok",
     "timestamp": 1604676223425,
     "user": {
      "displayName": "Max Li",
      "photoUrl": "https://lh3.googleusercontent.com/a-/AOh14GjbS1nGPpZCGiqa9ALLOpOeGCpzMycUSjYNZKA8Vg=s64",
      "userId": "18112864908242751804"
     },
     "user_tz": 300
    },
    "id": "TPPw4mAaKVCS",
    "outputId": "3f80ba27-c324-4a77-b020-95f10f444115"
   },
   "outputs": [],
   "source": [
    "# manually compute occluded region\n",
    "occ_mask = compute_left_occ_region(w, disp)\n",
    "\n",
    "# visualize the known occluded region\n",
    "plt.figure(6)\n",
    "plt.imshow(occ_mask)"
   ]
  },
  {
   "cell_type": "code",
   "execution_count": null,
   "metadata": {
    "colab": {
     "base_uri": "https://localhost:8080/"
    },
    "executionInfo": {
     "elapsed": 16789,
     "status": "ok",
     "timestamp": 1604676223426,
     "user": {
      "displayName": "Max Li",
      "photoUrl": "https://lh3.googleusercontent.com/a-/AOh14GjbS1nGPpZCGiqa9ALLOpOeGCpzMycUSjYNZKA8Vg=s64",
      "userId": "18112864908242751804"
     },
     "user_tz": 300
    },
    "id": "E6y3dSvQKYSb",
    "outputId": "b299a2ce-a8dc-404f-ff6a-cb9998839231"
   },
   "outputs": [],
   "source": [
    "# compute difference in non-occluded region only\n",
    "diff = disp - disp_pred\n",
    "diff[occ_mask] = 0.0 # set occ area to be 0.0\n",
    "\n",
    "# Note: code for computing the metrics can be found in module/loss.py\n",
    "valid_mask = np.logical_and(disp > 0.0, ~occ_mask)\n",
    "\n",
    "# find 3 px error\n",
    "err_px = (diff > 3).sum()\n",
    "total_px = (valid_mask).sum()\n",
    "print('3 px error %.3f%%'%(err_px*100.0/total_px))\n",
    "\n",
    "# find epe\n",
    "err = np.abs(diff[valid_mask]).sum()\n",
    "print('EPE %f'%(err * 1.0/ total_px))"
   ]
  },
  {
   "cell_type": "code",
   "execution_count": null,
   "metadata": {
    "executionInfo": {
     "elapsed": 16785,
     "status": "ok",
     "timestamp": 1604676223427,
     "user": {
      "displayName": "Max Li",
      "photoUrl": "https://lh3.googleusercontent.com/a-/AOh14GjbS1nGPpZCGiqa9ALLOpOeGCpzMycUSjYNZKA8Vg=s64",
      "userId": "18112864908242751804"
     },
     "user_tz": 300
    },
    "id": "TZv3yrh2J3Oi"
   },
   "outputs": [],
   "source": []
  }
 ],
 "metadata": {
  "accelerator": "GPU",
  "colab": {
   "authorship_tag": "ABX9TyMEIUEP1P8f53t1rBXX3cer",
   "collapsed_sections": [],
   "name": "inference_example_colab.ipynb",
   "provenance": [],
   "toc_visible": true
  },
  "kernelspec": {
   "display_name": "Python 3",
   "language": "python",
   "name": "python3"
  },
  "language_info": {
   "codemirror_mode": {
    "name": "ipython",
    "version": 3
   },
   "file_extension": ".py",
   "mimetype": "text/x-python",
   "name": "python",
   "nbconvert_exporter": "python",
   "pygments_lexer": "ipython3",
   "version": "3.6.9"
  }
 },
 "nbformat": 4,
 "nbformat_minor": 1
}
