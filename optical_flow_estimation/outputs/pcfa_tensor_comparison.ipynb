{
 "cells": [
  {
   "cell_type": "code",
   "execution_count": 2,
   "metadata": {},
   "outputs": [
    {
     "name": "stderr",
     "output_type": "stream",
     "text": [
      "/pfs/work7/workspace/scratch/ma_lucschwa-team_project_fss2024/miniconda3/envs/benchmark/lib/python3.10/site-packages/tqdm/auto.py:21: TqdmWarning: IProgress not found. Please update jupyter and ipywidgets. See https://ipywidgets.readthedocs.io/en/stable/user_install.html\n",
      "  from .autonotebook import tqdm as notebook_tqdm\n"
     ]
    }
   ],
   "source": [
    "import torch"
   ]
  },
  {
   "cell_type": "code",
   "execution_count": 14,
   "metadata": {},
   "outputs": [
    {
     "data": {
      "text/plain": [
       "tensor(0.4024)"
      ]
     },
     "execution_count": 14,
     "metadata": {},
     "output_type": "execute_result"
    }
   ],
   "source": [
    "# Namespace(net='RAFT', custom_weight_path='', dataset='Kitti15', dataset_stage='evaluation', small_run=False, dstype='final', \n",
    "# output_folder='experiment_data', small_save=False, save_frequency=1, no_save=False, unregistered_artifacts=False, \n",
    "# custom_experiment_name='', target='zero', custom_target_path='', flow_target_scale=1, loss='aee', joint_perturbation=False, steps=20, \n",
    "# universal_perturbation=False, boxconstraint='change_of_variables', batch_size=4, delta_bound=0.005, mu=-1, epochs=25, lr=0, optimizer='LBFGS', weighting=1.0)\n",
    "pcfa_image1 = torch.load('./pcfa_tensors_imagepair1_iteration1/pcfa_training_image1.pt', map_location=torch.device('cpu'))\n",
    "pcfa_image1.mean()"
   ]
  },
  {
   "cell_type": "code",
   "execution_count": 15,
   "metadata": {},
   "outputs": [
    {
     "data": {
      "text/plain": [
       "tensor(0.4035)"
      ]
     },
     "execution_count": 15,
     "metadata": {},
     "output_type": "execute_result"
    }
   ],
   "source": [
    "# Metadata: 'meta': {'dataset_name': ['KITTI_2015'], 'split_name': ['trainval'], \n",
    "# 'image_paths': [('/pfs/work7/workspace/scratch/ma_lucschwa-team_project_fss2024/datasets/kitti2015/training/image_2/000000_10.png',), \n",
    "# ('/pfs/work7/workspace/scratch/ma_lucschwa-team_project_fss2024/datasets/kitti2015/training/image_2/000000_11.png',)], \n",
    "# 'is_val': tensor([False]), 'misc': ['2015'], 'is_seq_start': tensor([True]), 'is_seq_end': tensor([True])}}\n",
    "ptl_image1 = torch.load('./own_pcfa_tensors/image1.pt', map_location=torch.device('cpu'))\n",
    "ptl_image1.mean()"
   ]
  },
  {
   "cell_type": "code",
   "execution_count": 10,
   "metadata": {},
   "outputs": [],
   "source": [
    "import torch\n",
    "import numpy as np\n",
    "from PIL import Image"
   ]
  },
  {
   "cell_type": "code",
   "execution_count": 16,
   "metadata": {},
   "outputs": [],
   "source": [
    "pcfa_image1 = pcfa_image1.squeeze(0) * 255\n",
    "ptl_image1 = ptl_image1.squeeze(0) * 255\n",
    "pcfa_image1 = pcfa_image1.byte().permute(1,2,0)\n",
    "ptl_image1 = ptl_image1.byte().permute(1,2,0)\n",
    "pcfa_image1_numpy = pcfa_image1.numpy()\n",
    "ptl_image1_numpy = ptl_image1.numpy()\n",
    "pcfa_image = Image.fromarray(pcfa_image1_numpy)\n",
    "ptl_image = Image.fromarray(ptl_image1_numpy)\n",
    "pcfa_image.save('pcfa_image1.png')\n",
    "ptl_image.save('ptl_image.png')"
   ]
  },
  {
   "cell_type": "code",
   "execution_count": null,
   "metadata": {},
   "outputs": [],
   "source": []
  }
 ],
 "metadata": {
  "kernelspec": {
   "display_name": "benchmark",
   "language": "python",
   "name": "python3"
  },
  "language_info": {
   "codemirror_mode": {
    "name": "ipython",
    "version": 3
   },
   "file_extension": ".py",
   "mimetype": "text/x-python",
   "name": "python",
   "nbconvert_exporter": "python",
   "pygments_lexer": "ipython3",
   "version": "3.10.13"
  }
 },
 "nbformat": 4,
 "nbformat_minor": 2
}
